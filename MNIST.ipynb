{
 "cells": [
  {
   "cell_type": "markdown",
   "metadata": {},
   "source": [
    "### 1. Data Preparation\n",
    "Data Set\n",
    "$$X_{train} \\in \\mathcal{R}^{50000 \\times 784}, Y_{train} \\in \\mathcal{Z}^{50000}$$\n",
    "$$X_{val} \\in \\mathcal{R}^{10000 \\times 784}, Y_{val} \\in \\mathcal{Z}^{10000}$$\n",
    "$$X_{test} \\in \\mathcal{R}^{10000 \\times 784}, Y_{test} \\in \\mathcal{Z}^{10000}$$"
   ]
  },
  {
   "cell_type": "code",
   "execution_count": 1,
   "metadata": {},
   "outputs": [
    {
     "name": "stdout",
     "output_type": "stream",
     "text": [
      "50000 10000 10000\n"
     ]
    }
   ],
   "source": [
    "import torch\n",
    "from torchvision import datasets, transforms\n",
    "import torch.nn as nn\n",
    "\n",
    "\n",
    "\n",
    "batch_size = 128\n",
    "train_dataset = datasets.MNIST('./data', train=True, download=True,\n",
    "                   transform=transforms.Compose([\n",
    "                       transforms.ToTensor(),\n",
    "                       transforms.Normalize((0.1307,), (0.3081,))\n",
    "                   ]))\n",
    "test_dataset =  datasets.MNIST('./data', train=False, download=True,\n",
    "                   transform=transforms.Compose([\n",
    "                       transforms.ToTensor(),\n",
    "                       transforms.Normalize((0.1307,), (0.3081,))\n",
    "                   ]))\n",
    "train_dataset, val_dataset = torch.utils.data.random_split(train_dataset, [50000, 10000])\n",
    "print(len(train_dataset), len(val_dataset), len(test_dataset))\n",
    "\n",
    "train_loader = torch.utils.data.DataLoader(train_dataset, batch_size=128, shuffle=True)\n",
    "val_loader = torch.utils.data.DataLoader(val_dataset, batch_size=128, shuffle=False)\n",
    "test_loader = torch.utils.data.DataLoader(test_dataset, batch_size=128, shuffle=False)"
   ]
  },
  {
   "cell_type": "markdown",
   "metadata": {},
   "source": [
    "### Inspecting Dataset"
   ]
  },
  {
   "cell_type": "code",
   "execution_count": 2,
   "metadata": {},
   "outputs": [
    {
     "data": {
      "image/png": "[encoded data removed]",
      "text/plain": [
       "<Figure size 1080x648 with 6 Axes>"
      ]
     },
     "metadata": {
      "needs_background": "light"
     },
     "output_type": "display_data"
    }
   ],
   "source": [
    "examples = enumerate(train_loader)\n",
    "batch_idx, (example_data, example_targets) = next(examples)  \n",
    "\n",
    "import matplotlib.pyplot as plt\n",
    "from mpl_toolkits import mplot3d\n",
    "\n",
    "fig = plt.figure(figsize=(15, 9))\n",
    "for i in range(6):\n",
    "    plt.subplot(2,3,i+1)\n",
    "    plt.tight_layout()\n",
    "    plt.imshow(example_data[i][0], cmap='gray', interpolation='none')\n",
    "    plt.title(\"Ground Truth: {}\".format(example_targets[i]))\n",
    "plt.show()"
   ]
  },
  {
   "cell_type": "markdown",
   "metadata": {},
   "source": [
    "### 2. Model Architecture"
   ]
  },
  {
   "cell_type": "code",
   "execution_count": 3,
   "metadata": {},
   "outputs": [],
   "source": [
    "class LinearModel(nn.Module):\n",
    "    def __init__(self):\n",
    "        super(LinearModel, self).__init__()\n",
    "        self.linear = nn.Linear(in_features = 784, out_features = 10, bias = True)\n",
    "        \n",
    "    def forward(self, x):\n",
    "        x = self.linear(x)\n",
    "        return x\n",
    "    \n",
    "class MLPModel(nn.Module):\n",
    "    def __init__(self, in_dim, out_dim, hid_dim):\n",
    "        super(MLPModel, self).__init__()\n",
    "        self.linear1 = nn.Linear(in_dim, hid_dim)\n",
    "        self.linear2 = nn.Linear(hid_dim, out_dim)\n",
    "        self.relu = nn.ReLU()\n",
    "    \n",
    "    def forward(self, x):\n",
    "        x = self.linear1(x)\n",
    "        x = self.relu(x)\n",
    "        x = self.linear2(x)\n",
    "        return x\n",
    "        "
   ]
  },
  {
   "cell_type": "markdown",
   "metadata": {},
   "source": [
    "### 3. Cost Function Define (Loss Function Define)"
   ]
  },
  {
   "cell_type": "code",
   "execution_count": 4,
   "metadata": {},
   "outputs": [],
   "source": [
    "cls_loss = nn.CrossEntropyLoss()"
   ]
  },
  {
   "cell_type": "markdown",
   "metadata": {},
   "source": [
    "### 4. Train & Evaluation"
   ]
  },
  {
   "cell_type": "code",
   "execution_count": 5,
   "metadata": {
    "scrolled": true
   },
   "outputs": [
    {
     "name": "stdout",
     "output_type": "stream",
     "text": [
      "cuda:0\n"
     ]
    }
   ],
   "source": [
    "# print(torch.cuda.is_available())\n",
    "device = 'cuda:0' if torch.cuda.is_available() else 'cpu'\n",
    "print(device)"
   ]
  },
  {
   "cell_type": "code",
   "execution_count": 6,
   "metadata": {},
   "outputs": [
    {
     "name": "stdout",
     "output_type": "stream",
     "text": [
      "True\n",
      "Number of 159010 parameters\n",
      "7.303475856781006\n",
      "Epoch: 0, Train Loss: 0.22646209062136652, Val Loss: 0.1355071499637222, Test Acc: 95.98%, 7.3\n",
      "6.952563047409058\n",
      "Epoch: 1, Train Loss: 0.11432393451156976, Val Loss: 0.12080592973028086, Test Acc: 96.41999999999999%, 7.0\n",
      "6.972564458847046\n",
      "Epoch: 2, Train Loss: 0.09127916509042615, Val Loss: 0.1461470632024015, Test Acc: 96.77%, 7.0\n",
      "6.994325876235962\n",
      "Epoch: 3, Train Loss: 0.07837532981491797, Val Loss: 0.14638287046499834, Test Acc: 96.55%, 7.0\n",
      "6.953030109405518\n",
      "Epoch: 4, Train Loss: 0.07237208748469724, Val Loss: 0.11635372313358408, Test Acc: 96.91%, 7.0\n",
      "6.962310552597046\n",
      "Epoch: 5, Train Loss: 0.06225927442382507, Val Loss: 0.1445001696768866, Test Acc: 96.83%, 7.0\n",
      "6.971791744232178\n",
      "Epoch: 6, Train Loss: 0.0628291773804835, Val Loss: 0.1344561536311573, Test Acc: 96.83%, 7.0\n",
      "6.978566408157349\n",
      "Epoch: 7, Train Loss: 0.05742776732298705, Val Loss: 0.15696141366807073, Test Acc: 97.19%, 7.0\n",
      "6.97350287437439\n",
      "Epoch: 8, Train Loss: 0.052673454175207794, Val Loss: 0.15656992948843945, Test Acc: 96.52%, 7.0\n",
      "6.981617450714111\n",
      "Epoch: 9, Train Loss: 0.050658249115186404, Val Loss: 0.1771648175626403, Test Acc: 96.75%, 7.0\n",
      "6.968313694000244\n",
      "Epoch: 10, Train Loss: 0.051297158620435185, Val Loss: 0.17696034992290544, Test Acc: 96.61%, 7.0\n",
      "7.000350475311279\n",
      "Epoch: 11, Train Loss: 0.05235026167761332, Val Loss: 0.18945296780985482, Test Acc: 96.93%, 7.0\n",
      "7.029109716415405\n",
      "Epoch: 12, Train Loss: 0.04413555066041408, Val Loss: 0.1973945996083048, Test Acc: 97.11%, 7.0\n",
      "6.96841025352478\n",
      "Epoch: 13, Train Loss: 0.04858086304370668, Val Loss: 0.18265255820612847, Test Acc: 97.53%, 7.0\n",
      "6.990894317626953\n",
      "Epoch: 14, Train Loss: 0.048462174890363294, Val Loss: 0.19862025403849828, Test Acc: 97.35000000000001%, 7.0\n",
      "7.0587639808654785\n",
      "Epoch: 15, Train Loss: 0.04651152066580463, Val Loss: 0.25516448843389505, Test Acc: 96.41999999999999%, 7.1\n",
      "7.038926601409912\n",
      "Epoch: 16, Train Loss: 0.039966601136931505, Val Loss: 0.20547142631964066, Test Acc: 97.48%, 7.0\n",
      "7.162110805511475\n",
      "Epoch: 17, Train Loss: 0.03277176203643167, Val Loss: 0.2308543434581547, Test Acc: 97.06%, 7.2\n",
      "7.0650835037231445\n",
      "Epoch: 18, Train Loss: 0.040878037657991265, Val Loss: 0.22942528252702066, Test Acc: 97.09%, 7.1\n",
      "7.030515193939209\n",
      "Epoch: 19, Train Loss: 0.04186736665679767, Val Loss: 0.23502088237230576, Test Acc: 97.35000000000001%, 7.0\n",
      "6.994592905044556\n",
      "Epoch: 20, Train Loss: 0.039027369327843356, Val Loss: 0.28053744517184226, Test Acc: 97.25%, 7.0\n",
      "7.030096769332886\n",
      "Epoch: 21, Train Loss: 0.037515309405801854, Val Loss: 0.2507812989627618, Test Acc: 97.61999999999999%, 7.0\n",
      "6.9815661907196045\n",
      "Epoch: 22, Train Loss: 0.038009740255911785, Val Loss: 0.3006561343584658, Test Acc: 97.33000000000001%, 7.0\n",
      "7.0254967212677\n",
      "Epoch: 23, Train Loss: 0.04082297695668766, Val Loss: 0.25147465052520335, Test Acc: 97.45%, 7.0\n",
      "6.990961790084839\n",
      "Epoch: 24, Train Loss: 0.03551790409857019, Val Loss: 0.30306531122254143, Test Acc: 97.26%, 7.0\n",
      "7.0029778480529785\n",
      "Epoch: 25, Train Loss: 0.03362883658058536, Val Loss: 0.309128145618667, Test Acc: 97.21%, 7.0\n",
      "6.9718828201293945\n",
      "Epoch: 26, Train Loss: 0.03656262623563307, Val Loss: 0.2953911876619817, Test Acc: 97.55%, 7.0\n",
      "6.965916633605957\n",
      "Epoch: 27, Train Loss: 0.04035119178205557, Val Loss: 0.3378948304652792, Test Acc: 97.46000000000001%, 7.0\n",
      "6.9819176197052\n",
      "Epoch: 28, Train Loss: 0.04106293522606516, Val Loss: 0.33853733034239386, Test Acc: 97.53%, 7.0\n",
      "6.983264446258545\n",
      "Epoch: 29, Train Loss: 0.03390291828203078, Val Loss: 0.35814532299452906, Test Acc: 97.43%, 7.0\n"
     ]
    }
   ],
   "source": [
    "import torch.optim as optim\n",
    "from sklearn.metrics import accuracy_score\n",
    "import time\n",
    "# ====== Construct Model ====== #\n",
    "model = MLPModel(784,10, 200)\n",
    "print(torch.cuda.is_available())\n",
    "device = 'cuda:0' if torch.cuda.is_available() else 'cpu'\n",
    "model.to(device)\n",
    "\n",
    "print('Number of {} parameters'.format(sum(p.numel() for p in model.parameters() if p.requires_grad)))\n",
    "\n",
    "# ===== Construct Optimizer ====== #\n",
    "lr = 0.005 \n",
    "optimizer = optim.Adam(model.parameters(), lr=lr) \n",
    "\n",
    "list_epoch = [] \n",
    "list_train_loss = []\n",
    "list_val_loss = []\n",
    "list_acc = []\n",
    "list_acc_epoch = []\n",
    "\n",
    "epoch = 30\n",
    "for i in range(epoch):\n",
    "    ts = time.time()\n",
    "    \n",
    "    # ====== Train ====== #\n",
    "    train_loss = 0\n",
    "    model.train() \n",
    "    \n",
    "    for input_X, true_y in train_loader:\n",
    "        optimizer.zero_grad() # [21.01.05 오류 수정] 매 Epoch 마다 .zero_grad()가 실행되는 것을 매 iteration 마다 실행되도록 수정했습니다. \n",
    "\n",
    "        input_X = input_X.squeeze()\n",
    "        input_X = input_X.view(-1, 784)\n",
    "        input_X = input_X.to(device)\n",
    "        true_y = true_y.to(device)\n",
    "        pred_y = model(input_X)\n",
    "\n",
    "        loss = cls_loss(pred_y.squeeze(), true_y)\n",
    "        loss.backward() \n",
    "        optimizer.step() \n",
    "        train_loss += loss.item()\n",
    "    train_loss = train_loss / len(train_loader)\n",
    "    list_train_loss.append(train_loss)\n",
    "    list_epoch.append(i)\n",
    "    \n",
    "    \n",
    "    # ====== Validation ====== #\n",
    "    val_loss = 0\n",
    "    model.eval()\n",
    "    # optimizer.zero_grad() [21.01.05 코드 클린업] 아래 torch.no_grad()가 호출되고 Validation 과정에서는 Optimizer를 사용하지 않으므로 굳이 호출될 필요가 없습니다. \n",
    "    \n",
    "    with torch.no_grad(): # [21.01.05 코드 클린업] Validation 과정에서 그라디언트가 활용되지 않도록 torch.no_grad() statement 안에서 코드를 실행합니다.\n",
    "        for input_X, true_y in val_loader:\n",
    "            input_X = input_X.squeeze()\n",
    "            input_X = input_X.view(-1, 784)\n",
    "            input_X = input_X.to(device)\n",
    "            true_y = true_y.to(device)\n",
    "            pred_y = model(input_X)\n",
    "\n",
    "            loss = cls_loss(pred_y.squeeze(), true_y)\n",
    "            val_loss += loss.item()\n",
    "        val_loss = val_loss / len(val_loader)\n",
    "        list_val_loss.append(val_loss)\n",
    "\n",
    "\n",
    "    # ====== Evaluation ======= #\n",
    "    correct = 0\n",
    "    model.eval()\n",
    "    # optimizer.zero_grad() [21.01.05 코드 클린업] 아래 torch.no_grad()가 호출되고 Evaluation 과정에서는 Optimizer를 사용하지 않으므로 굳이 호출될 필요가 없습니다. \n",
    "\n",
    "    with torch.no_grad(): # [21.01.05 코드 클린업] Evaluation 과정에서 그라디언트가 활용되지 않도록 torch.no_grad() statement 안에서 코드를 실행합니다.\n",
    "        for input_X, true_y in test_loader:\n",
    "            input_X = input_X.squeeze()\n",
    "            input_X = input_X.view(-1, 784)\n",
    "            input_X = input_X.to(device)\n",
    "            true_y = true_y.to(device)\n",
    "            pred_y = model(input_X).max(1, keepdim=True)[1].squeeze()\n",
    "            correct += pred_y.eq(true_y).sum()\n",
    "\n",
    "        acc = correct.item() / len(test_loader.dataset)\n",
    "        list_acc.append(acc)\n",
    "        list_acc_epoch.append(i)\n",
    "        \n",
    "        te = time.time()\n",
    "        print(te-ts)\n",
    "    \n",
    "    print('Epoch: {}, Train Loss: {}, Val Loss: {}, Test Acc: {}%, {:3.1f}'.format(i, train_loss, val_loss, acc*100, te-ts))"
   ]
  },
  {
   "cell_type": "code",
   "execution_count": 8,
   "metadata": {},
   "outputs": [
    {
     "data": {
      "image/png": "[encoded data removed]",
      "text/plain": [
       "<Figure size 1080x360 with 1 Axes>"
      ]
     },
     "metadata": {
      "needs_background": "light"
     },
     "output_type": "display_data"
    }
   ],
   "source": [
    "fig = plt.figure(figsize=(15,5))\n",
    "\n",
    "# ====== Loss Fluctuation ====== #\n",
    "ax1 = fig.add_subplot(1, 2, 1)\n",
    "ax1.plot(list_epoch, list_train_loss, label='train_loss')\n",
    "ax1.plot(list_epoch, list_val_loss, '--', label='val_loss')\n",
    "ax1.set_xlabel('epoch')\n",
    "ax1.set_ylabel('loss')\n",
    "ax1.set_ylim(0, 5)\n",
    "ax1.grid()\n",
    "ax1.legend()\n",
    "ax1.set_title('epoch vs loss')\n",
    "\n",
    "plt.show()"
   ]
  },
  {
   "cell_type": "code",
   "execution_count": null,
   "metadata": {},
   "outputs": [],
   "source": []
  }
 ],
 "metadata": {
  "kernelspec": {
   "display_name": "kim",
   "language": "python",
   "name": "kim"
  },
  "language_info": {
   "codemirror_mode": {
    "name": "ipython",
    "version": 3
   },
   "file_extension": ".py",
   "mimetype": "text/x-python",
   "name": "python",
   "nbconvert_exporter": "python",
   "pygments_lexer": "ipython3",
   "version": "3.6.13"
  }
 },
 "nbformat": 4,
 "nbformat_minor": 4
}
